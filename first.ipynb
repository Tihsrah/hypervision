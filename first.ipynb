{
  "nbformat": 4,
  "nbformat_minor": 0,
  "metadata": {
    "colab": {
      "provenance": []
    },
    "kernelspec": {
      "name": "python3",
      "display_name": "Python 3"
    },
    "language_info": {
      "name": "python"
    }
  },
  "cells": [
    {
      "cell_type": "code",
      "execution_count": null,
      "metadata": {
        "id": "ri77FrlrGAdT"
      },
      "outputs": [],
      "source": [
        "import os\n",
        "import google.auth\n",
        "from googleapiclient.discovery import build\n",
        "from googleapiclient.errors import HttpError\n",
        "import pandas as pd\n",
        "from datetime import datetime\n"
      ]
    },
    {
      "cell_type": "code",
      "source": [
        "# Set up the YouTube API client\n",
        "credentials, _ = google.auth.default(scopes=['https://www.googleapis.com/auth/youtube.upload'])\n",
        "youtube = build('youtube', 'v3', credentials=credentials)\n"
      ],
      "metadata": {
        "id": "jx85wNKBGH3m"
      },
      "execution_count": null,
      "outputs": []
    },
    {
      "cell_type": "code",
      "source": [
        "\n",
        "# Read the Excel sheet\n",
        "df = pd.read_excel('/content/youtube.xlsx')\n",
        "\n",
        "# Loop through the DataFrame rows and upload the videos/posts\n",
        "for index, row in df.iterrows():\n",
        "    # Extract details from the row\n",
        "    title = row['title']\n",
        "    description = row['description']\n",
        "    filepath = row['filepath']\n",
        "    platform = row['platform']\n",
        "    datetime = row['datetime']\n",
        "    tags = row['tags'].split(',')\n",
        "    privacy = row['privacy']\n",
        "    comments = row['comments']\n",
        "    # Convert date_time to ISO 8601 format\n",
        "    #iso_date_time = datetime.strftime(datetime, '%Y-%m-%dT%H:%M:%S.%fZ')\n",
        "\n",
        "\n",
        "    # Upload the video/post to the specified platform\n",
        "    if platform.lower() == 'youtube':\n",
        "        try:\n",
        "            # Set video metadata\n",
        "            video_metadata = {\n",
        "                'snippet': {\n",
        "                    'title': title,\n",
        "                    'description': description,\n",
        "                    'tags': tags\n",
        "                },\n",
        "                'status': {\n",
        "                    'privacyStatus': 'public',\n",
        "                    'publishAt': datetime\n",
        "                }\n",
        "            }\n",
        "\n",
        "            # Upload the video to the channel\n",
        "            response = youtube.videos().insert(part='snippet,status', body=video_metadata, media_body=filepath).execute()\n",
        "\n",
        "            # Update the Excel sheet with the video URL\n",
        "            df.at[index, 'Video URL'] = f'https://www.youtube.com/watch?v={response[\"id\"]}'\n",
        "        except HttpError as e:\n",
        "            print(f'An error occurred: {e}')\n",
        "    elif platform.lower() == 'facebook':\n",
        "        try:\n",
        "            # Set video metadata\n",
        "            video_metadata = {\n",
        "                'title': title,\n",
        "                'description': description,\n",
        "                'tags': tags.split(',') if tags else []\n",
        "            }\n",
        "\n",
        "            # Upload the video to the Facebook page\n",
        "            response = graph.put_video(file=open(filepath, 'rb'), title=title, description=description, tags=tags.split(','))\n",
        "\n",
        "            # Update the Excel sheet with the video URL\n",
        "            df.at[index, 'Video URL'] = f'https://www.facebook.com/{response[\"id\"]}'\n",
        "        except Exception as e:\n",
        "            print(f'An error occurred: {e}')\n",
        "\n"
      ],
      "metadata": {
        "colab": {
          "base_uri": "https://localhost:8080/",
          "height": 357
        },
        "id": "M1O-vrccGLHe",
        "outputId": "d718c72f-ddfa-4032-fa15-bb5e533becce"
      },
      "execution_count": null,
      "outputs": [
        {
          "output_type": "error",
          "ename": "TypeError",
          "evalue": "ignored",
          "traceback": [
            "\u001b[0;31m---------------------------------------------------------------------------\u001b[0m",
            "\u001b[0;31mTypeError\u001b[0m                                 Traceback (most recent call last)",
            "\u001b[0;32m<ipython-input-40-5157753dccc8>\u001b[0m in \u001b[0;36m<cell line: 5>\u001b[0;34m()\u001b[0m\n\u001b[1;32m     34\u001b[0m \u001b[0;34m\u001b[0m\u001b[0m\n\u001b[1;32m     35\u001b[0m             \u001b[0;31m# Upload the video to the channel\u001b[0m\u001b[0;34m\u001b[0m\u001b[0;34m\u001b[0m\u001b[0m\n\u001b[0;32m---> 36\u001b[0;31m             \u001b[0mresponse\u001b[0m \u001b[0;34m=\u001b[0m \u001b[0myoutube\u001b[0m\u001b[0;34m.\u001b[0m\u001b[0mvideos\u001b[0m\u001b[0;34m(\u001b[0m\u001b[0;34m)\u001b[0m\u001b[0;34m.\u001b[0m\u001b[0minsert\u001b[0m\u001b[0;34m(\u001b[0m\u001b[0mpart\u001b[0m\u001b[0;34m=\u001b[0m\u001b[0;34m'snippet,status'\u001b[0m\u001b[0;34m,\u001b[0m \u001b[0mbody\u001b[0m\u001b[0;34m=\u001b[0m\u001b[0mvideo_metadata\u001b[0m\u001b[0;34m,\u001b[0m \u001b[0mmedia_body\u001b[0m\u001b[0;34m=\u001b[0m\u001b[0mfilepath\u001b[0m\u001b[0;34m)\u001b[0m\u001b[0;34m.\u001b[0m\u001b[0mexecute\u001b[0m\u001b[0;34m(\u001b[0m\u001b[0;34m)\u001b[0m\u001b[0;34m\u001b[0m\u001b[0;34m\u001b[0m\u001b[0m\n\u001b[0m\u001b[1;32m     37\u001b[0m \u001b[0;34m\u001b[0m\u001b[0m\n\u001b[1;32m     38\u001b[0m             \u001b[0;31m# Update the Excel sheet with the video URL\u001b[0m\u001b[0;34m\u001b[0m\u001b[0;34m\u001b[0m\u001b[0m\n",
            "\u001b[0;32m/usr/local/lib/python3.9/dist-packages/googleapiclient/discovery.py\u001b[0m in \u001b[0;36mmethod\u001b[0;34m(self, **kwargs)\u001b[0m\n\u001b[1;32m   1148\u001b[0m                 \u001b[0mmedia_upload\u001b[0m \u001b[0;34m=\u001b[0m \u001b[0mmedia_filename\u001b[0m\u001b[0;34m\u001b[0m\u001b[0;34m\u001b[0m\u001b[0m\n\u001b[1;32m   1149\u001b[0m             \u001b[0;32melse\u001b[0m\u001b[0;34m:\u001b[0m\u001b[0;34m\u001b[0m\u001b[0;34m\u001b[0m\u001b[0m\n\u001b[0;32m-> 1150\u001b[0;31m                 \u001b[0;32mraise\u001b[0m \u001b[0mTypeError\u001b[0m\u001b[0;34m(\u001b[0m\u001b[0;34m\"media_filename must be str or MediaUpload.\"\u001b[0m\u001b[0;34m)\u001b[0m\u001b[0;34m\u001b[0m\u001b[0;34m\u001b[0m\u001b[0m\n\u001b[0m\u001b[1;32m   1151\u001b[0m \u001b[0;34m\u001b[0m\u001b[0m\n\u001b[1;32m   1152\u001b[0m             \u001b[0;31m# Check the maxSize\u001b[0m\u001b[0;34m\u001b[0m\u001b[0;34m\u001b[0m\u001b[0m\n",
            "\u001b[0;31mTypeError\u001b[0m: media_filename must be str or MediaUpload."
          ]
        }
      ]
    },
    {
      "cell_type": "code",
      "source": [
        "\n",
        "# Save the updated Excel sheet\n",
        "df.to_excel('schedule-updated.xlsx', index=False)"
      ],
      "metadata": {
        "id": "_azRJ_PRHX0-"
      },
      "execution_count": null,
      "outputs": []
    },
    {
      "cell_type": "code",
      "source": [
        "# Upload the video to YouTube\n",
        "def upload_video(youtube, video_metadata, video_file):\n",
        "    insert_request = youtube.videos().insert(\n",
        "        part=','.join(video_metadata.keys()),\n",
        "        body=video_metadata,\n",
        "        media_body=video_file\n",
        "    )\n",
        "    response = insert_request.execute()\n",
        "    print(f'Video uploaded: {response[\"id\"]}')\n",
        "\n"
      ],
      "metadata": {
        "id": "vd54s7PYGNLD"
      },
      "execution_count": null,
      "outputs": []
    },
    {
      "cell_type": "code",
      "source": [
        "# Read the Excel sheet and upload the videos\n",
        "def upload_videos_from_excel(filename):\n",
        "    df = pd.read_excel(filename)\n",
        "    youtube = get_authenticated_service()\n",
        "    for i, row in df.iterrows():\n",
        "        video_metadata, video_file = get_video_metadata(row)\n",
        "        upload_video(youtube, video_metadata, video_file)\n",
        "\n"
      ],
      "metadata": {
        "id": "c5p9sjTMGPDr"
      },
      "execution_count": null,
      "outputs": []
    },
    {
      "cell_type": "code",
      "source": [
        "if __name__ == '__main__':\n",
        "    filename = 'videos.xlsx' # replace with your Excel file name\n",
        "    upload_videos_from_excel(filename)\n"
      ],
      "metadata": {
        "id": "lEgngUZtGQc7"
      },
      "execution_count": null,
      "outputs": []
    }
  ]
}